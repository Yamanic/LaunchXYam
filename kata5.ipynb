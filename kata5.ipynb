{
 "cells": [
  {
   "cell_type": "code",
   "execution_count": null,
   "metadata": {},
   "outputs": [],
   "source": []
  },
  {
   "cell_type": "markdown",
   "metadata": {},
   "source": [
    "Ejercicio1: Distancia entre planetas"
   ]
  },
  {
   "cell_type": "code",
   "execution_count": 2,
   "metadata": {},
   "outputs": [
    {
     "name": "stdout",
     "output_type": "stream",
     "text": [
      "628949330 390577534\n"
     ]
    }
   ],
   "source": [
    "primer_planeta= 149597870\n",
    "segundo_planeta=778547200\n",
    "diferencia=segundo_planeta-primer_planeta\n",
    "millas= diferencia*0.621\n",
    "print(diferencia, round (millas))\n"
   ]
  },
  {
   "cell_type": "markdown",
   "metadata": {},
   "source": [
    "Ejercicio2: convertir cadenas en numeros y usar valores absolutos"
   ]
  },
  {
   "cell_type": "code",
   "execution_count": 6,
   "metadata": {},
   "outputs": [
    {
     "name": "stdout",
     "output_type": "stream",
     "text": [
      "-30\n",
      "18.63\n"
     ]
    }
   ],
   "source": [
    "planeta_uno = input('Introduzca la distancia del sol para el primer planeta en KM')\n",
    "planeta_dos = input('Introduzca la distancia desde el sol para el segundo planeta en KM')\n",
    "planeta_uno = int(planeta_uno)\n",
    "planeta_dos = int(planeta_dos)\n",
    "dis_km = planeta_dos - planeta_uno\n",
    "print(dis_km)\n",
    "dis_m = dis_km * 0.621\n",
    "print(abs(dis_m))\n"
   ]
  }
 ],
 "metadata": {
  "interpreter": {
   "hash": "024ebb95644f519af1cb8f492d38d74173c5cbc7eb199da020cad49417d7cfc3"
  },
  "kernelspec": {
   "display_name": "Python 3.10.2 64-bit",
   "language": "python",
   "name": "python3"
  },
  "language_info": {
   "codemirror_mode": {
    "name": "ipython",
    "version": 3
   },
   "file_extension": ".py",
   "mimetype": "text/x-python",
   "name": "python",
   "nbconvert_exporter": "python",
   "pygments_lexer": "ipython3",
   "version": "3.10.2"
  },
  "orig_nbformat": 4
 },
 "nbformat": 4,
 "nbformat_minor": 2
}
