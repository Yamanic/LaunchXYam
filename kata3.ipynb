{
 "cells": [
  {
   "cell_type": "code",
   "execution_count": null,
   "metadata": {},
   "outputs": [],
   "source": []
  },
  {
   "cell_type": "markdown",
   "metadata": {},
   "source": [
    "Un asteroide se acerca, y viaja a una velocidad de 49 km/s."
   ]
  },
  {
   "cell_type": "code",
   "execution_count": 3,
   "metadata": {},
   "outputs": [
    {
     "name": "stdout",
     "output_type": "stream",
     "text": [
      "Ningun asteroide se dirige a gran velocidad ;D\n"
     ]
    }
   ],
   "source": [
    "velocidad=25\n",
    "if(velocidad>25):\n",
    "    print(\"Alerta: ¡Hay un asteroide que se dirige a gran velocidad!\")\n",
    "else:\n",
    "    print(\"Ningun asteroide se dirige a gran velocidad ;D\")\n",
    "\n",
    "\n"
   ]
  },
  {
   "cell_type": "markdown",
   "metadata": {},
   "source": [
    " ¡Hay uno que se dirige a la tierra ahora a una velocidad de 19 km/s!"
   ]
  },
  {
   "cell_type": "code",
   "execution_count": 6,
   "metadata": {},
   "outputs": [
    {
     "name": "stdout",
     "output_type": "stream",
     "text": [
      "No se alcanza a ver ningun asteroide\n"
     ]
    }
   ],
   "source": [
    "velocidad=19\n",
    "if(velocidad>=20):\n",
    "    print(\"Puedes ver el asteroide en el cielo\")\n",
    "else:\n",
    "    print(\"No se alcanza a ver ningun asteroide\")"
   ]
  },
  {
   "cell_type": "markdown",
   "metadata": {},
   "source": [
    "Uso de operadores"
   ]
  },
  {
   "cell_type": "code",
   "execution_count": 13,
   "metadata": {},
   "outputs": [
    {
     "name": "stdout",
     "output_type": "stream",
     "text": [
      "Puedes ver el asteroide en el cielo\n"
     ]
    }
   ],
   "source": [
    "velocidad=25\n",
    "tamano=40\n",
    "if tamano>25 and velocidad>25:\n",
    "    print(\"El asteroide puede causar gran daño\")\n",
    "elif velocidad>=20:\n",
    "    print(\"Puedes ver el asteroide en el cielo\")\n",
    "elif tamano<25 :\n",
    "    print(\"No se ve ningun asteroide\")\n",
    "else:\n",
    "    print(\"No hay ningun peligro\")"
   ]
  }
 ],
 "metadata": {
  "interpreter": {
   "hash": "024ebb95644f519af1cb8f492d38d74173c5cbc7eb199da020cad49417d7cfc3"
  },
  "kernelspec": {
   "display_name": "Python 3.10.2 64-bit",
   "language": "python",
   "name": "python3"
  },
  "language_info": {
   "codemirror_mode": {
    "name": "ipython",
    "version": 3
   },
   "file_extension": ".py",
   "mimetype": "text/x-python",
   "name": "python",
   "nbconvert_exporter": "python",
   "pygments_lexer": "ipython3",
   "version": "3.10.2"
  },
  "orig_nbformat": 4
 },
 "nbformat": 4,
 "nbformat_minor": 2
}
