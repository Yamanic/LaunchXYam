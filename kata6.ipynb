{
 "cells": [
  {
   "cell_type": "code",
   "execution_count": null,
   "metadata": {},
   "outputs": [],
   "source": []
  },
  {
   "cell_type": "markdown",
   "metadata": {},
   "source": [
    "Ejercicio 1"
   ]
  },
  {
   "cell_type": "code",
   "execution_count": 7,
   "metadata": {},
   "outputs": [
    {
     "name": "stdout",
     "output_type": "stream",
     "text": [
      "['Mercurio', 'Venus', 'Tierra', 'Marte', 'Jupiter', 'Saturno', 'Urano', 'Neptuno']\n",
      "El numero de planetas que hay son: 9\n",
      "El ultimo planeta es:  Pluto\n"
     ]
    }
   ],
   "source": [
    "planets=['Mercurio', 'Venus', 'Tierra', 'Marte', 'Jupiter', 'Saturno', 'Urano', 'Neptuno']\n",
    "print(planets)\n",
    "planets.append('Pluto')\n",
    "numerodeplanetas=len(planets)\n",
    "print('El numero de planetas que hay son:',numerodeplanetas)\n",
    "print('El ultimo planeta es: ', planets[8])\n"
   ]
  },
  {
   "cell_type": "markdown",
   "metadata": {},
   "source": [
    "Ejercicio 2:"
   ]
  },
  {
   "cell_type": "code",
   "execution_count": 6,
   "metadata": {},
   "outputs": [
    {
     "name": "stdout",
     "output_type": "stream",
     "text": [
      "Tu planeta ocupa la posición:  6\n",
      "Los planetas más cercanos al sol que Urano son: \n",
      "['Mercurio', 'Venus', 'Tierra', 'Marte', 'Jupiter', 'Saturno']\n",
      "Los planetas más lejanos al sol que Urano son: \n",
      "['Neptuno']\n"
     ]
    }
   ],
   "source": [
    "planetas=['Mercurio', 'Venus', 'Tierra', 'Marte', 'Jupiter', 'Saturno', 'Urano', 'Neptuno']\n",
    "planeta_solicitado=input('Ingresa el nombre del plaenta que deseas buscar: ')\n",
    "planeta_index=planetas.index(planeta_solicitado)\n",
    "print('Tu planeta ocupa la posición: ',planeta_index)\n",
    "print('Los planetas más cercanos al sol que', planeta_solicitado, 'son: ')\n",
    "print(planetas[0:planeta_index])\n",
    "print('Los planetas más lejanos al sol que', planeta_solicitado, 'son: ')\n",
    "print(planetas[planeta_index + 1:])\n"
   ]
  }
 ],
 "metadata": {
  "interpreter": {
   "hash": "024ebb95644f519af1cb8f492d38d74173c5cbc7eb199da020cad49417d7cfc3"
  },
  "kernelspec": {
   "display_name": "Python 3.10.2 64-bit",
   "language": "python",
   "name": "python3"
  },
  "language_info": {
   "codemirror_mode": {
    "name": "ipython",
    "version": 3
   },
   "file_extension": ".py",
   "mimetype": "text/x-python",
   "name": "python",
   "nbconvert_exporter": "python",
   "pygments_lexer": "ipython3",
   "version": "3.10.2"
  },
  "orig_nbformat": 4
 },
 "nbformat": 4,
 "nbformat_minor": 2
}
